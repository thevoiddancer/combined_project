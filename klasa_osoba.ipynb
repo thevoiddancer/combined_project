{
 "cells": [
  {
   "cell_type": "code",
   "execution_count": null,
   "id": "fb233dde",
   "metadata": {},
   "outputs": [
    {
     "name": "stdout",
     "output_type": "stream",
     "text": [
      "Zaposlenik\n"
     ]
    }
   ],
   "source": [
    "class Osoba:\n",
    "    def __init__(self, ime, prezime, email, telefon):\n",
    "        self.ime = ime\n",
    "        self.prezime = prezime\n",
    "        self.email = self.provjeri_mail(email)\n",
    "        self.telefon = self.provjeri_telefon(telefon)\n",
    "    \n",
    "    def provjeri_mail(self, email):\n",
    "        if '@' in email and '.' in email:\n",
    "            return email\n",
    "        else:\n",
    "            raise ValueError(\"Email nije dobar\")\n",
    "    \n",
    "    def provjeri_telefon(self, telefon: str):\n",
    "        telefon = telefon.replace('+', '').replace('/', '').replace('-', '').replace(' ', '')\n",
    "        if telefon.isnumeric() and len(telefon) in [12, 11, 10, 9]:\n",
    "            return telefon\n",
    "        else:\n",
    "            raise ValueError(\"Telefon nije dobar\")\n",
    "\n",
    "class Zaposlenik(Osoba):\n",
    "    def __init__(self, ime, prezime, email, telefon):\n",
    "        super().__init__(ime, prezime, email, telefon)\n",
    "        self.tip = \"Zaposlenik\"\n",
    "\n",
    "class Korisnik(Osoba):\n",
    "    def __init__(self, ime, prezime, email, telefon):\n",
    "        super().__init__(ime, prezime, email, telefon)\n",
    "        self.tip = \"Korisnik\"\n",
    "\n",
    "class Administrator(Osoba):\n",
    "    def __init__(self, ime, prezime, email, telefon):\n",
    "        super().__init__(ime, prezime, email, telefon)\n",
    "        self.tip = \"Admin\"\n",
    "\n",
    "\n",
    "ja = Zaposlenik(\"Tomislav\", \"Nazifović\", \"tomislav@ggoogle.com\", \"+385 98/174-8370\")\n",
    "print(ja.tip)"
   ]
  }
 ],
 "metadata": {
  "kernelspec": {
   "display_name": "Python 3",
   "language": "python",
   "name": "python3"
  },
  "language_info": {
   "codemirror_mode": {
    "name": "ipython",
    "version": 3
   },
   "file_extension": ".py",
   "mimetype": "text/x-python",
   "name": "python",
   "nbconvert_exporter": "python",
   "pygments_lexer": "ipython3",
   "version": "3.13.1"
  }
 },
 "nbformat": 4,
 "nbformat_minor": 5
}
