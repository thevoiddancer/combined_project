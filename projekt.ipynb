{
 "cells": [
  {
   "cell_type": "markdown",
   "metadata": {},
   "source": [
    "# Intro"
   ]
  },
  {
   "cell_type": "markdown",
   "metadata": {},
   "source": [
    "## Cilj"
   ]
  },
  {
   "cell_type": "markdown",
   "metadata": {},
   "source": [
    "Cilj projekta je spojiti većinu znanja koje smo naučili tijekom rada u Python radionici u slaganju jedne aplikacije. Sam projekt je zamšljen kao:\n",
    "\n",
    "- Aplikacija kojom se u kozmetičkom salonu mogu upisivati korisnici i to pregledati zaposlenici.\n",
    "\n",
    "U stvarnoti postoje neka odstupanja od ove aplikacije:\n",
    "- upisivanje korisnika - bilo bi preko web stranice, pa bi tu postojao API koji to regulira.\n",
    "- ulogiravanje zaposlenika - username i password bi se drugačije čuvao\n",
    "- podaci o terminima i korisnicima - isto bi se drugačije čuvali\n"
   ]
  },
  {
   "cell_type": "markdown",
   "metadata": {},
   "source": [
    "## Elementi"
   ]
  },
  {
   "cell_type": "markdown",
   "metadata": {},
   "source": [
    "Elementi aplikacije koje će nam trebati (ovo slobodno dodajte kako razmišljate o tome)\n",
    "\n",
    "1. Vizualna reprezentacija (GUI)\n",
    "2. Pohrana podataka (cvs/excel/pkl/txt/....)\n",
    "3. Ulaz i izlaz (ne preko input i print, nego GUI)\n",
    "4. Objekti (radi lakše upotrebe podataka)\n",
    "5. Exception handling (za podatke koji su namjerno krivo unešeni)\n",
    "6. Login zaposlenika i admina\n",
    "7. Unos korisnika\n",
    "8. Unos zahtvata u kalendar\n",
    "9. Obavijest zaposleniku koga ima danas u planu\n",
    "10. Print računa\n",
    "11. Print rasporeda po zaposleniku\n",
    "12. Vidljivost slobodnih termina\n",
    "13. Izmjena zaposlenika i cjenika"
   ]
  },
  {
   "cell_type": "markdown",
   "metadata": {},
   "source": [
    "## Repozitorij"
   ]
  },
  {
   "cell_type": "markdown",
   "metadata": {},
   "source": [
    "Repozitorij je jedan za oba tima. U Gitu se to može jednostavno tako da svaki tim napravi svoj branch i samo u njemu radi. Upute za izradu brancha su:\n",
    "\n",
    "```git\n",
    "git checkout -b ime_mog_brancha\n",
    "(radite)\n",
    "git add .\n",
    "git commit -m \"naziv mog comita koji objašnjava što sam radio\"\n",
    "git push\n",
    "```\n",
    "\n",
    "Ne uploadajte ništa u master. A jednom kad ste napravili svoj branch, u njemu možete raditi što god želite."
   ]
  },
  {
   "cell_type": "markdown",
   "metadata": {},
   "source": [
    "## Timovi"
   ]
  },
  {
   "cell_type": "code",
   "execution_count": 1,
   "metadata": {},
   "outputs": [
    {
     "name": "stdout",
     "output_type": "stream",
     "text": [
      "Tim 1 su: ['Frane', 'Miroslav']\n",
      "Tim 2 su: ['Andrea', 'Antonio']\n"
     ]
    }
   ],
   "source": [
    "from random import shuffle\n",
    "\n",
    "polaznici = ['Andrea', 'Antonio', 'Frane', 'Miroslav']\n",
    "shuffle(polaznici)\n",
    "\n",
    "tim1 = polaznici[:2]\n",
    "tim2 = polaznici[2:]\n",
    "\n",
    "print(\"Tim 1 su:\", tim1)\n",
    "print(\"Tim 2 su:\", tim2)"
   ]
  },
  {
   "cell_type": "markdown",
   "metadata": {},
   "source": [
    "* Tim 1: Frane, Miroslav\n",
    "* Tim 2: Andrea Antonio\n",
    "\n",
    "Ideja iza timova je da radite u kombinaciji i da svatko napravi dio koda. Možete si međusobno pomagati, korigirati i komentirati kod. Zadatke ću raspisati, ali ih neću podijeliti, tako da se unutar svakog tima međusobno dogovorite tko će raditi koji dio zadatka."
   ]
  },
  {
   "cell_type": "markdown",
   "metadata": {},
   "source": [
    "## Zadaci"
   ]
  },
  {
   "cell_type": "markdown",
   "metadata": {},
   "source": [
    "### 1. Vizualna reprezentacija (GUI)"
   ]
  },
  {
   "cell_type": "markdown",
   "metadata": {},
   "source": [
    "Ovo ću dopisati kad prođemo GUI predavanje"
   ]
  },
  {
   "cell_type": "markdown",
   "metadata": {},
   "source": [
    "### 2. Pohrana podataka (cvs/excel/pkl/txt/....)"
   ]
  },
  {
   "cell_type": "markdown",
   "metadata": {},
   "source": [
    "#### 2.a Čitanje"
   ]
  },
  {
   "cell_type": "markdown",
   "metadata": {},
   "source": [
    "Napišite funkciju koja će učitati podatke iz odabranog formata (csv, excel, pickle, txt - preporuka csv ili excel). Ulazni podatak je naziv filenamea, a izlazni podatak je jedan od odabranih formata (dogovoriti s partnerom):\n",
    "\n",
    "- lista lista\n",
    "- lista rječnika\n",
    "- DataFrame\n",
    "- lista objekata\n",
    "\n",
    "Upotreba funkcije treba izgledati ovako nekako (naziv je vama na izbor):\n",
    "\n",
    "```python\n",
    "file_name = 'korisnici.csv'\n",
    "korisnici = funkcija_za_čitanje(file_name)\n",
    "\n",
    "for korisnik in korisnici:\n",
    "    print(korisnik.ime)\n",
    "```"
   ]
  },
  {
   "cell_type": "markdown",
   "metadata": {},
   "source": [
    "#### 2.b Pisanje"
   ]
  },
  {
   "cell_type": "markdown",
   "metadata": {},
   "source": [
    "Napišite funkciju koja će dodati podatke na postojeći file. Ulazni parametri su naziv filea i dodatni podaci (istog tipa kao izlazni za funkciju čitanja). Treba se pripaziti da se prilikom upisivanja ne izgube stari podaci."
   ]
  },
  {
   "cell_type": "markdown",
   "metadata": {},
   "source": [
    "### 3. Ulaz i izlaz (ne preko input i print, nego GUI)"
   ]
  },
  {
   "cell_type": "markdown",
   "metadata": {},
   "source": [
    "Ovo ću dopisati kad prođemo GUI predavanje"
   ]
  },
  {
   "cell_type": "markdown",
   "metadata": {},
   "source": [
    "### 4. Objekti (radi lakše upotrebe podataka)"
   ]
  },
  {
   "cell_type": "markdown",
   "metadata": {},
   "source": [
    "Napišite objekte za lakši rad s podacima. Potrebni su objekti za:\n",
    "\n",
    "- Korisnika\n",
    "- Ponuđene zahvate\n",
    "- Dogovoreni termin\n",
    "\n",
    "Za atribute i metode objekata se dogovorite međusobno i objasnite logički vaš odabir."
   ]
  },
  {
   "cell_type": "markdown",
   "metadata": {},
   "source": [
    "### 5. Exception handling (za podatke koji su namjerno krivo unešeni)"
   ]
  },
  {
   "cell_type": "markdown",
   "metadata": {},
   "source": [
    "Ovo ću dopisati kad prođemo GUI predavanje, jer će ovisiti o tome."
   ]
  },
  {
   "cell_type": "markdown",
   "metadata": {},
   "source": [
    "### 6. Login zaposlenika i admina"
   ]
  },
  {
   "cell_type": "markdown",
   "metadata": {},
   "source": [
    "Kreiraj file koji će držati podatke o loginu i passwordu admina i zaposlenika. Dodatno, file mora imati i polje \"uloga\" kojom se regulira je li u pitanju zaposlenik ili administrator/vlasnik."
   ]
  },
  {
   "cell_type": "markdown",
   "metadata": {},
   "source": [
    "### 7. Unos korisnika"
   ]
  },
  {
   "cell_type": "markdown",
   "metadata": {},
   "source": [
    "Napiši funkciju kojom se od sirovih podataka formira objekt korisnika i sprema se u file s korisnicima."
   ]
  },
  {
   "cell_type": "markdown",
   "metadata": {},
   "source": [
    "### 8. Unos zahtvata u kalendar"
   ]
  },
  {
   "cell_type": "markdown",
   "metadata": {},
   "source": [
    "Napiši funkciju kojom se od sirovih podataka (vrijeme) te objekata (zahvat i korisnik) formira objekt termin i zapisuje u file s terminima."
   ]
  },
  {
   "cell_type": "markdown",
   "metadata": {},
   "source": [
    "### 9. Obavijest zaposleniku koga ima danas u planu"
   ]
  },
  {
   "cell_type": "markdown",
   "metadata": {},
   "source": [
    "Napiši funkciju koja će kao ulazni parametar imati ID zaposlenika i kao izlaz će dobiti listu objekata za termine."
   ]
  },
  {
   "cell_type": "markdown",
   "metadata": {},
   "source": [
    "### 10. Print računa"
   ]
  },
  {
   "cell_type": "markdown",
   "metadata": {},
   "source": [
    "Napiši funkciju koja će imati ulazni parametar objekte korisnika, termin i zahvat te složiti jednostavan račun."
   ]
  },
  {
   "cell_type": "markdown",
   "metadata": {},
   "source": [
    "### 11. Print rasporeda po zaposleniku"
   ]
  },
  {
   "cell_type": "markdown",
   "metadata": {},
   "source": [
    "Napiši funkciju koja će kao ulazni parametar imati objekt zaposlenika, a kao izlazni imati listu objekata termina za današnji dan. Opcionalno dodajte da se može specificirati neki drugi dan."
   ]
  },
  {
   "cell_type": "markdown",
   "metadata": {},
   "source": [
    "### 12. Vidljivost slobodnih termina"
   ]
  },
  {
   "cell_type": "markdown",
   "metadata": {},
   "source": [
    "Napiši funkciju koja će kao ulazni parametar imati dan, tjedan ili mjesec i vratiti listu slobodnih zaposlenika i njihovih termina. Opcionalno dodajte da ulazni parametar može biti i zaposlenik (objekt ili id) i onda se ispišu samo slobodni termini za tog zaposlenika."
   ]
  },
  {
   "cell_type": "markdown",
   "metadata": {},
   "source": [
    "### 13. Izmjena podataka"
   ]
  },
  {
   "cell_type": "markdown",
   "metadata": {},
   "source": [
    "Napiši funkciju koja kao ulazni parametar ima naziv dokumenta, podatke koje želite izmjeniti i podatke u koje želite to izmjeniti. Ako je lakše, odvojite po jednu funkciju za svaki file koji nam čuva podatke (zahvati, termini, mušterije, passwordi)."
   ]
  }
 ],
 "metadata": {
  "kernelspec": {
   "display_name": "machina",
   "language": "python",
   "name": "python3"
  },
  "language_info": {
   "codemirror_mode": {
    "name": "ipython",
    "version": 3
   },
   "file_extension": ".py",
   "mimetype": "text/x-python",
   "name": "python",
   "nbconvert_exporter": "python",
   "pygments_lexer": "ipython3",
   "version": "3.12.6"
  }
 },
 "nbformat": 4,
 "nbformat_minor": 2
}
