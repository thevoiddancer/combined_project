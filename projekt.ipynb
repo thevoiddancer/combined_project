{
 "cells": [
  {
   "cell_type": "markdown",
   "metadata": {},
   "source": [
    "# Intro"
   ]
  },
  {
   "cell_type": "markdown",
   "metadata": {},
   "source": [
    "## Cilj"
   ]
  },
  {
   "cell_type": "markdown",
   "metadata": {},
   "source": [
    "Cilj projekta je spojiti većinu znanja koje smo naučili tijekom rada u Python radionici u slaganju jedne aplikacije. Sam projekt je zamšljen kao:\n",
    "\n",
    "- Aplikacija kojom se u kozmetičkom salonu mogu upisivati korisnici i to pregledati zaposlenici.\n",
    "\n",
    "U stvarnoti postoje neka odstupanja od ove aplikacije:\n",
    "- upisivanje korisnika - bilo bi preko web stranice, pa bi tu postojao API koji to regulira.\n",
    "- umogiravanje zaposlenika - \n"
   ]
  },
  {
   "cell_type": "markdown",
   "metadata": {},
   "source": [
    "## Elementi"
   ]
  },
  {
   "cell_type": "markdown",
   "metadata": {},
   "source": [
    "Elementi aplikacije koje će nam trebati (ovo slobodno dodajte kako razmišljate o tome)\n",
    "\n",
    "1. Vizualna reprezentacija (GUI)\n",
    "2. Pohrana podataka (cvs/excel/pkl/txt/....)\n",
    "3. Ulaz i izlaz (ne preko input i print, nego GUI)\n",
    "4. Objekti (radi lakše upotrebe podataka)\n",
    "5. Exception handling (za podatke koji su namjerno krivo unešeni)\n",
    "6. Login zaposlenika i admina\n",
    "7. Login korisnika\n",
    "8. Unos zahtvata u kalendar\n",
    "9. Obavijest zaposleniku koga ima danas u planu\n"
   ]
  },
  {
   "cell_type": "code",
   "execution_count": null,
   "metadata": {},
   "outputs": [],
   "source": []
  }
 ],
 "metadata": {
  "language_info": {
   "name": "python"
  }
 },
 "nbformat": 4,
 "nbformat_minor": 2
}
